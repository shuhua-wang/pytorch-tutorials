{
 "cells": [
  {
   "cell_type": "markdown",
   "metadata": {},
   "source": [
    "### 08. Pytorch Basics\n",
    "\n",
    "This pytorch basics tutorial contains more examples for autograd, loading data, input pipline, pretrained model, save and load model.\n",
    "\n",
    "#### Table of Contents\n",
    "\n",
    "- [1. Basic autograd example 1](#heading)\n",
    "- [2. Basic autograd example 2](#heading)\n",
    "- [3. Loading data from numpy](#heading)\n",
    "- [4. Input pipline](#heading)\n",
    "- [5. Input pipline for custom dataset](#heading)\n",
    "- [6. Pretrained model](#heading)\n",
    "- [7. Save and load model](#heading)\n"
   ]
  },
  {
   "cell_type": "markdown",
   "metadata": {},
   "source": [
    "#### 1. Basic autograd example 1"
   ]
  },
  {
   "cell_type": "code",
   "execution_count": 1,
   "metadata": {},
   "outputs": [],
   "source": [
    "import torch\n",
    "import torchvision\n",
    "import torch.nn as nn\n",
    "import numpy as np\n",
    "import torchvision.transforms as transforms"
   ]
  },
  {
   "cell_type": "code",
   "execution_count": 2,
   "metadata": {},
   "outputs": [
    {
     "name": "stdout",
     "output_type": "stream",
     "text": [
      "tensor(2.)\n",
      "tensor(1.)\n",
      "tensor(1.)\n"
     ]
    }
   ],
   "source": [
    "# create tensors\n",
    "x = torch.tensor(1., requires_grad=True)\n",
    "w = torch.tensor(2., requires_grad=True)\n",
    "b = torch.tensor(3., requires_grad=True)\n",
    "\n",
    "# build a computational graph\n",
    "# y = 2 * x + 3\n",
    "y = w * x + b\n",
    "\n",
    "# compute gradients\n",
    "y.backward()\n",
    "\n",
    "# print out the gradients\n",
    "print(x.grad)\n",
    "print(w.grad)\n",
    "print(b.grad)"
   ]
  },
  {
   "cell_type": "markdown",
   "metadata": {},
   "source": [
    "#### 2. Basic autograd example 2"
   ]
  },
  {
   "cell_type": "code",
   "execution_count": 3,
   "metadata": {},
   "outputs": [
    {
     "name": "stdout",
     "output_type": "stream",
     "text": [
      "x: tensor([[-0.9527, -0.2505, -1.8054],\n",
      "        [ 0.4457,  1.3306, -0.1702],\n",
      "        [ 0.5204, -0.4415, -0.4162],\n",
      "        [ 0.3132,  1.0229,  0.6401],\n",
      "        [-0.3796, -0.3896,  1.2053],\n",
      "        [-0.7884, -1.3956,  1.9586],\n",
      "        [ 0.4727, -1.1065,  1.0103],\n",
      "        [-0.3476, -1.1874, -1.2094],\n",
      "        [-0.3993,  0.2940, -0.2490],\n",
      "        [-1.3199, -0.4339, -0.8404]])\n",
      "y: tensor([[-0.4410, -0.6859],\n",
      "        [ 3.3284, -0.8028],\n",
      "        [ 0.4173, -0.1413],\n",
      "        [-0.3205,  0.3768],\n",
      "        [ 0.7461,  0.5453],\n",
      "        [ 0.9099,  0.6813],\n",
      "        [-0.2392,  0.0340],\n",
      "        [-0.1058,  0.1387],\n",
      "        [-1.4546, -0.6930],\n",
      "        [-0.0121,  0.9345]])\n"
     ]
    }
   ],
   "source": [
    "# create tensors of shape (10, 3) and (10, 2)\n",
    "x = torch.randn(10, 3)\n",
    "y = torch.randn(10, 2)\n",
    "print(f'x: {x}')\n",
    "print(f'y: {y}')"
   ]
  }
 ],
 "metadata": {
  "kernelspec": {
   "display_name": "Python 3.7",
   "language": "python",
   "name": "python3"
  },
  "language_info": {
   "codemirror_mode": {
    "name": "ipython",
    "version": 3
   },
   "file_extension": ".py",
   "mimetype": "text/x-python",
   "name": "python",
   "nbconvert_exporter": "python",
   "pygments_lexer": "ipython3",
   "version": "3.7.6"
  }
 },
 "nbformat": 4,
 "nbformat_minor": 4
}
