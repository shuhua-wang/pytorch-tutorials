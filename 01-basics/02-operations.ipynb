{
 "cells": [
  {
   "cell_type": "markdown",
   "metadata": {},
   "source": [
    "### 02. Operations\n",
    "\n",
    "There are multiple syntaxes for operations. In the following example, we will take a look at the addition operation."
   ]
  },
  {
   "cell_type": "code",
   "execution_count": 1,
   "metadata": {},
   "outputs": [],
   "source": [
    "from __future__ import print_function\n",
    "import torch"
   ]
  },
  {
   "cell_type": "code",
   "execution_count": 2,
   "metadata": {},
   "outputs": [
    {
     "name": "stdout",
     "output_type": "stream",
     "text": [
      "tensor([[0.2424, 0.0949, 0.2620],\n",
      "        [0.2166, 0.8865, 0.5905],\n",
      "        [0.2512, 0.1541, 0.9730],\n",
      "        [0.3663, 0.6274, 0.9021],\n",
      "        [0.3711, 0.0971, 0.3524]])\n",
      "tensor([[0.1994, 0.1332, 0.2163],\n",
      "        [0.1982, 0.6975, 0.5992],\n",
      "        [0.5440, 0.3290, 0.0749],\n",
      "        [0.2774, 0.5263, 0.4672],\n",
      "        [0.2043, 0.0045, 0.3537]])\n",
      "tensor([[0.4418, 0.2281, 0.4784],\n",
      "        [0.4149, 1.5840, 1.1897],\n",
      "        [0.7952, 0.4831, 1.0479],\n",
      "        [0.6438, 1.1537, 1.3693],\n",
      "        [0.5754, 0.1015, 0.7061]])\n"
     ]
    }
   ],
   "source": [
    "# addition: syntax 1\n",
    "x = torch.rand(5, 3)\n",
    "y = torch.rand(5, 3)\n",
    "print(x)\n",
    "print(y)\n",
    "print(x + y)"
   ]
  },
  {
   "cell_type": "code",
   "execution_count": 3,
   "metadata": {},
   "outputs": [
    {
     "name": "stdout",
     "output_type": "stream",
     "text": [
      "tensor([[0.4418, 0.2281, 0.4784],\n",
      "        [0.4149, 1.5840, 1.1897],\n",
      "        [0.7952, 0.4831, 1.0479],\n",
      "        [0.6438, 1.1537, 1.3693],\n",
      "        [0.5754, 0.1015, 0.7061]])\n"
     ]
    }
   ],
   "source": [
    "# addition: syntax 2\n",
    "print(torch.add(x, y))"
   ]
  },
  {
   "cell_type": "code",
   "execution_count": 4,
   "metadata": {},
   "outputs": [
    {
     "name": "stdout",
     "output_type": "stream",
     "text": [
      "tensor([[0.4418, 0.2281, 0.4784],\n",
      "        [0.4149, 1.5840, 1.1897],\n",
      "        [0.7952, 0.4831, 1.0479],\n",
      "        [0.6438, 1.1537, 1.3693],\n",
      "        [0.5754, 0.1015, 0.7061]])\n"
     ]
    }
   ],
   "source": [
    "# addition: providing an output tensor as argument\n",
    "result = torch.empty(5, 3)\n",
    "torch.add(x, y, out=result)\n",
    "print(result)"
   ]
  },
  {
   "cell_type": "code",
   "execution_count": 5,
   "metadata": {},
   "outputs": [
    {
     "name": "stdout",
     "output_type": "stream",
     "text": [
      "tensor([[0.4418, 0.2281, 0.4784],\n",
      "        [0.4149, 1.5840, 1.1897],\n",
      "        [0.7952, 0.4831, 1.0479],\n",
      "        [0.6438, 1.1537, 1.3693],\n",
      "        [0.5754, 0.1015, 0.7061]])\n"
     ]
    }
   ],
   "source": [
    "# addition: in-place\n",
    "# adds x to y\n",
    "y.add_(x)\n",
    "print(y)"
   ]
  },
  {
   "cell_type": "markdown",
   "metadata": {},
   "source": [
    "Note: any operation that mutates a tensor in-place is post-fixed with an `_`. For example: `x.copy_(y)`, `x.t_()`, will change `x`."
   ]
  },
  {
   "cell_type": "code",
   "execution_count": 6,
   "metadata": {},
   "outputs": [
    {
     "name": "stdout",
     "output_type": "stream",
     "text": [
      "tensor([[0.2424, 0.0949, 0.2620],\n",
      "        [0.2166, 0.8865, 0.5905],\n",
      "        [0.2512, 0.1541, 0.9730],\n",
      "        [0.3663, 0.6274, 0.9021],\n",
      "        [0.3711, 0.0971, 0.3524]])\n",
      "tensor([0.0949, 0.8865, 0.1541, 0.6274, 0.0971])\n"
     ]
    }
   ],
   "source": [
    "# you can use standard NumPy-like indexing with all bells and whistles:\n",
    "print(x)\n",
    "print(x[:, 1])"
   ]
  },
  {
   "cell_type": "markdown",
   "metadata": {},
   "source": [
    "Resizing: if you want to resize/reshape tensor, you can use `torch.view`"
   ]
  },
  {
   "cell_type": "code",
   "execution_count": 7,
   "metadata": {},
   "outputs": [
    {
     "name": "stdout",
     "output_type": "stream",
     "text": [
      "tensor([[0.4120, 0.0863, 0.8300, 0.1853],\n",
      "        [0.5961, 0.2848, 0.4627, 0.5440],\n",
      "        [0.1737, 0.1720, 0.3070, 0.3970],\n",
      "        [0.8703, 0.8095, 0.0561, 0.2174]])\n",
      "x size: torch.Size([4, 4])\n",
      "tensor([0.4120, 0.0863, 0.8300, 0.1853, 0.5961, 0.2848, 0.4627, 0.5440, 0.1737,\n",
      "        0.1720, 0.3070, 0.3970, 0.8703, 0.8095, 0.0561, 0.2174])\n",
      "y size: torch.Size([16])\n",
      "tensor([[0.4120, 0.0863, 0.8300, 0.1853, 0.5961, 0.2848, 0.4627, 0.5440],\n",
      "        [0.1737, 0.1720, 0.3070, 0.3970, 0.8703, 0.8095, 0.0561, 0.2174]])\n",
      "z size: torch.Size([2, 8])\n"
     ]
    }
   ],
   "source": [
    "x = torch.rand(4, 4)\n",
    "print(x)\n",
    "print('x size:', x.size())\n",
    "y = x.view(16)\n",
    "print(y)\n",
    "print('y size:', y.size())\n",
    "z = x.view(-1, 8) # the size -1 is inferred from other dimensions, i.e., 4*4/8=2\n",
    "print(z)\n",
    "print('z size:', z.size())"
   ]
  },
  {
   "cell_type": "markdown",
   "metadata": {},
   "source": [
    "If you have a one element tensor, use `.item()` to get the value as a Python number"
   ]
  },
  {
   "cell_type": "code",
   "execution_count": 8,
   "metadata": {},
   "outputs": [
    {
     "name": "stdout",
     "output_type": "stream",
     "text": [
      "tensor(0.0665)\n",
      "<class 'torch.Tensor'>\n",
      "0.0664757490158081\n",
      "<class 'float'>\n"
     ]
    }
   ],
   "source": [
    "x = torch.rand(4, 4)\n",
    "print(x[0, 0])\n",
    "print(type(x[0, 0]))\n",
    "print(x[0, 0].item())\n",
    "print(type(x[0, 0].item()))"
   ]
  },
  {
   "cell_type": "markdown",
   "metadata": {},
   "source": [
    "There are more tensor operations, including transposing, indexing, slicing, mathematical operations, linear algebra..., are described [here](https://pytorch.org/docs/stable/torch.html)"
   ]
  }
 ],
 "metadata": {
  "kernelspec": {
   "display_name": "Python 3.7",
   "language": "python",
   "name": "python3"
  },
  "language_info": {
   "codemirror_mode": {
    "name": "ipython",
    "version": 3
   },
   "file_extension": ".py",
   "mimetype": "text/x-python",
   "name": "python",
   "nbconvert_exporter": "python",
   "pygments_lexer": "ipython3",
   "version": "3.7.6"
  }
 },
 "nbformat": 4,
 "nbformat_minor": 4
}
