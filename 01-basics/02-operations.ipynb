{
 "cells": [
  {
   "cell_type": "markdown",
   "metadata": {},
   "source": [
    "### 02. Operations\n",
    "\n",
    "There are multiple syntaxes for operations. In the following example, we will take a look at the addition operation."
   ]
  },
  {
   "cell_type": "code",
   "execution_count": 1,
   "metadata": {},
   "outputs": [],
   "source": [
    "from __future__ import print_function\n",
    "import torch"
   ]
  },
  {
   "cell_type": "code",
   "execution_count": 2,
   "metadata": {},
   "outputs": [
    {
     "name": "stdout",
     "output_type": "stream",
     "text": [
      "tensor([[0.2471, 0.2641, 0.8207],\n",
      "        [0.5981, 0.7604, 0.4134],\n",
      "        [0.1955, 0.3937, 0.8919],\n",
      "        [0.0300, 0.1266, 0.5161],\n",
      "        [0.6294, 0.1684, 0.6747]])\n",
      "tensor([[0.0462, 0.7882, 0.4547],\n",
      "        [0.3478, 0.1413, 0.8858],\n",
      "        [0.7258, 0.4699, 0.8265],\n",
      "        [0.5829, 0.8737, 0.1752],\n",
      "        [0.0397, 0.7404, 0.4701]])\n",
      "tensor([[0.2933, 1.0523, 1.2754],\n",
      "        [0.9459, 0.9017, 1.2992],\n",
      "        [0.9212, 0.8636, 1.7184],\n",
      "        [0.6129, 1.0003, 0.6913],\n",
      "        [0.6691, 0.9087, 1.1448]])\n"
     ]
    }
   ],
   "source": [
    "# addition: syntax 1\n",
    "x = torch.rand(5, 3)\n",
    "y = torch.rand(5, 3)\n",
    "print(x)\n",
    "print(y)\n",
    "print(x + y)"
   ]
  },
  {
   "cell_type": "code",
   "execution_count": 3,
   "metadata": {},
   "outputs": [
    {
     "name": "stdout",
     "output_type": "stream",
     "text": [
      "tensor([[0.2933, 1.0523, 1.2754],\n",
      "        [0.9459, 0.9017, 1.2992],\n",
      "        [0.9212, 0.8636, 1.7184],\n",
      "        [0.6129, 1.0003, 0.6913],\n",
      "        [0.6691, 0.9087, 1.1448]])\n"
     ]
    }
   ],
   "source": [
    "# addition: syntax 2\n",
    "print(torch.add(x, y))"
   ]
  },
  {
   "cell_type": "code",
   "execution_count": 4,
   "metadata": {},
   "outputs": [
    {
     "name": "stdout",
     "output_type": "stream",
     "text": [
      "tensor([[0.2933, 1.0523, 1.2754],\n",
      "        [0.9459, 0.9017, 1.2992],\n",
      "        [0.9212, 0.8636, 1.7184],\n",
      "        [0.6129, 1.0003, 0.6913],\n",
      "        [0.6691, 0.9087, 1.1448]])\n"
     ]
    }
   ],
   "source": [
    "# addition: providing an output tensor as argument\n",
    "result = torch.empty(5, 3)\n",
    "torch.add(x, y, out=result)\n",
    "print(result)"
   ]
  },
  {
   "cell_type": "code",
   "execution_count": 5,
   "metadata": {},
   "outputs": [
    {
     "name": "stdout",
     "output_type": "stream",
     "text": [
      "tensor([[0.2933, 1.0523, 1.2754],\n",
      "        [0.9459, 0.9017, 1.2992],\n",
      "        [0.9212, 0.8636, 1.7184],\n",
      "        [0.6129, 1.0003, 0.6913],\n",
      "        [0.6691, 0.9087, 1.1448]])\n"
     ]
    }
   ],
   "source": [
    "# addition: in-place\n",
    "# adds x to y\n",
    "y.add_(x)\n",
    "print(y)"
   ]
  },
  {
   "cell_type": "markdown",
   "metadata": {},
   "source": [
    "Note: any operation that mutates a tensor in-place is post-fixed with an `_`. For example: `x.copy_(y)`, `x.t_()`, will change `x`."
   ]
  },
  {
   "cell_type": "code",
   "execution_count": 6,
   "metadata": {},
   "outputs": [
    {
     "name": "stdout",
     "output_type": "stream",
     "text": [
      "tensor([[0.2471, 0.2641, 0.8207],\n",
      "        [0.5981, 0.7604, 0.4134],\n",
      "        [0.1955, 0.3937, 0.8919],\n",
      "        [0.0300, 0.1266, 0.5161],\n",
      "        [0.6294, 0.1684, 0.6747]])\n",
      "tensor([0.2641, 0.7604, 0.3937, 0.1266, 0.1684])\n"
     ]
    }
   ],
   "source": [
    "# you can use standard NumPy-like indexing with all bells and whistles:\n",
    "print(x)\n",
    "print(x[:, 1])"
   ]
  },
  {
   "cell_type": "markdown",
   "metadata": {},
   "source": [
    "Resizing: if you want to resize/reshape tensor, you can use `torch.view`"
   ]
  },
  {
   "cell_type": "code",
   "execution_count": 7,
   "metadata": {},
   "outputs": [
    {
     "name": "stdout",
     "output_type": "stream",
     "text": [
      "tensor([[0.1831, 0.4401, 0.9867, 0.1908],\n",
      "        [0.3117, 0.4189, 0.0246, 0.9249],\n",
      "        [0.9727, 0.1526, 0.7941, 0.4887],\n",
      "        [0.3097, 0.9738, 0.5469, 0.3080]])\n",
      "x size: torch.Size([4, 4])\n",
      "tensor([0.1831, 0.4401, 0.9867, 0.1908, 0.3117, 0.4189, 0.0246, 0.9249, 0.9727,\n",
      "        0.1526, 0.7941, 0.4887, 0.3097, 0.9738, 0.5469, 0.3080])\n",
      "y size: torch.Size([16])\n",
      "tensor([[0.1831, 0.4401, 0.9867, 0.1908, 0.3117, 0.4189, 0.0246, 0.9249],\n",
      "        [0.9727, 0.1526, 0.7941, 0.4887, 0.3097, 0.9738, 0.5469, 0.3080]])\n",
      "z size: torch.Size([2, 8])\n"
     ]
    }
   ],
   "source": [
    "x = torch.rand(4, 4)\n",
    "print(x)\n",
    "print('x size:', x.size())\n",
    "y = x.view(16)\n",
    "print(y)\n",
    "print('y size:', y.size())\n",
    "z = x.view(-1, 8) # the size -1 is inferred from other dimensions, i.e., 4*4/8=2\n",
    "print(z)\n",
    "print('z size:', z.size())"
   ]
  },
  {
   "cell_type": "markdown",
   "metadata": {},
   "source": [
    "If you have a one element tensor, use `.item()` to get the value as a Python number"
   ]
  },
  {
   "cell_type": "code",
   "execution_count": 8,
   "metadata": {},
   "outputs": [
    {
     "name": "stdout",
     "output_type": "stream",
     "text": [
      "tensor(0.8835)\n",
      "<class 'torch.Tensor'>\n",
      "0.8835136294364929\n",
      "<class 'float'>\n"
     ]
    }
   ],
   "source": [
    "x = torch.rand(4, 4)\n",
    "print(x[0, 0])\n",
    "print(type(x[0, 0]))\n",
    "print(x[0, 0].item())\n",
    "print(type(x[0, 0].item()))"
   ]
  },
  {
   "cell_type": "markdown",
   "metadata": {},
   "source": [
    "There are more tensor operations, including transposing, indexing, slicing, mathematical operations, linear algebra..., are described [here](https://pytorch.org/docs/stable/torch.html)"
   ]
  }
 ],
 "metadata": {
  "kernelspec": {
   "display_name": "Python 3.7",
   "language": "python",
   "name": "python3"
  },
  "language_info": {
   "codemirror_mode": {
    "name": "ipython",
    "version": 3
   },
   "file_extension": ".py",
   "mimetype": "text/x-python",
   "name": "python",
   "nbconvert_exporter": "python",
   "pygments_lexer": "ipython3",
   "version": "3.7.6"
  }
 },
 "nbformat": 4,
 "nbformat_minor": 4
}
