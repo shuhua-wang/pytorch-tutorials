{
 "cells": [
  {
   "cell_type": "markdown",
   "metadata": {},
   "source": [
    "## PyTorch:\n",
    "\n",
    "It is a Python-based scientific computing package targeted at two sets of audiences:\n",
    "\n",
    "1. A replacement for NumPy to use the power of GPUs;\n",
    "2. A deep learning research platform that provides maximum flexibility and speed.\n",
    "\n",
    "### 01. Tensors\n",
    "\n",
    "Tensors are similar to NumPy's ndarrays, with the addition being that Tensors can also be used on a GPU to accelerate computing."
   ]
  },
  {
   "cell_type": "code",
   "execution_count": 1,
   "metadata": {},
   "outputs": [],
   "source": [
    "from __future__ import print_function\n",
    "import torch"
   ]
  },
  {
   "cell_type": "markdown",
   "metadata": {},
   "source": [
    "Note: An uninitialized matrix is declared, but does not contain definite known values before it is used. When an uninitialized matrix is created, whatever values were in the allocated memory at the time will appear as the initial values."
   ]
  },
  {
   "cell_type": "code",
   "execution_count": 2,
   "metadata": {},
   "outputs": [
    {
     "name": "stdout",
     "output_type": "stream",
     "text": [
      "tensor([[1.3904e-38, 7.5530e-43, 1.3900e-38],\n",
      "        [7.5530e-43, 1.3900e-38, 7.5530e-43],\n",
      "        [1.3900e-38, 7.5530e-43, 1.3904e-38],\n",
      "        [7.5530e-43, 1.3904e-38, 7.5530e-43],\n",
      "        [1.3903e-38, 7.5530e-43, 1.3903e-38]])\n"
     ]
    }
   ],
   "source": [
    "# construct a 5x3 matrix, uninitialized:\n",
    "x = torch.empty(5, 3)\n",
    "print(x)"
   ]
  },
  {
   "cell_type": "code",
   "execution_count": 3,
   "metadata": {},
   "outputs": [
    {
     "name": "stdout",
     "output_type": "stream",
     "text": [
      "tensor([[0.1260, 0.0556, 0.0411],\n",
      "        [0.2746, 0.6946, 0.5035],\n",
      "        [0.2032, 0.6178, 0.0776],\n",
      "        [0.0627, 0.4492, 0.5854],\n",
      "        [0.4719, 0.9556, 0.4430]])\n"
     ]
    }
   ],
   "source": [
    "# construct a 5x3 randomly initialized matrix:\n",
    "x = torch.rand(5, 3)\n",
    "print(x)"
   ]
  },
  {
   "cell_type": "code",
   "execution_count": 4,
   "metadata": {},
   "outputs": [
    {
     "name": "stdout",
     "output_type": "stream",
     "text": [
      "tensor([[0, 0, 0],\n",
      "        [0, 0, 0],\n",
      "        [0, 0, 0],\n",
      "        [0, 0, 0],\n",
      "        [0, 0, 0]])\n"
     ]
    }
   ],
   "source": [
    "# construct a matrix filled zeros and of dtype long:\n",
    "x = torch.zeros(5, 3, dtype=torch.long)\n",
    "print(x)"
   ]
  },
  {
   "cell_type": "code",
   "execution_count": 5,
   "metadata": {},
   "outputs": [
    {
     "name": "stdout",
     "output_type": "stream",
     "text": [
      "tensor([5.5000, 3.0000])\n"
     ]
    }
   ],
   "source": [
    "# construct a tensor directly from data:\n",
    "x = torch.tensor([5.5, 3])\n",
    "print(x)"
   ]
  },
  {
   "cell_type": "code",
   "execution_count": 6,
   "metadata": {},
   "outputs": [
    {
     "name": "stdout",
     "output_type": "stream",
     "text": [
      "tensor([[1., 1., 1.],\n",
      "        [1., 1., 1.],\n",
      "        [1., 1., 1.],\n",
      "        [1., 1., 1.],\n",
      "        [1., 1., 1.]], dtype=torch.float64)\n",
      "tensor([[-0.3567, -0.2240, -0.1459],\n",
      "        [ 1.2845, -0.2153, -0.5859],\n",
      "        [-0.0555,  0.9390, -0.5695],\n",
      "        [-0.7077, -0.2990, -0.7211],\n",
      "        [-0.0632,  1.2675,  0.6540]])\n"
     ]
    }
   ],
   "source": [
    "# create a tensor based on an existing tensor.\n",
    "# these methods will reuse properties of the input tensor, e.g. dtype, unless new values are provided by user.\n",
    "x = x.new_ones(5, 3, dtype=torch.double) # new_* methods take in sizes\n",
    "print(x)\n",
    "\n",
    "y = torch.randn_like(x, dtype=torch.float) # override dtype, result has the same size\n",
    "print(y)"
   ]
  }
 ],
 "metadata": {
  "kernelspec": {
   "display_name": "Python 3.7",
   "language": "python",
   "name": "python3"
  },
  "language_info": {
   "codemirror_mode": {
    "name": "ipython",
    "version": 3
   },
   "file_extension": ".py",
   "mimetype": "text/x-python",
   "name": "python",
   "nbconvert_exporter": "python",
   "pygments_lexer": "ipython3",
   "version": "3.7.6"
  }
 },
 "nbformat": 4,
 "nbformat_minor": 4
}
