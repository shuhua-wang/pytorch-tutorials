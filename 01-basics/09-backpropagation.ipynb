{
 "cells": [
  {
   "cell_type": "markdown",
   "metadata": {},
   "source": [
    "### 09. Backpropagation"
   ]
  },
  {
   "cell_type": "markdown",
   "metadata": {},
   "source": [
    "#### Table of Contents\n",
    "\n",
    "- [1. Chian rule](#heading)\n",
    "- [2. Computational graph and local gradients](#heading)\n",
    "- [3. Forward and backward pass](#heading)\n",
    "\n",
    "#### 1. Chian rule\n",
    "\n",
    "<img src=\"./images/chain_rule.png\" alt=\"chain_rule\" width=\"400\"/>\n",
    "\n",
    "**Chian rule** is a formula to compute the derivative of a composite function. If a variable $z$ depends on the variable $y$, $z=f(y)$, where the $y$ itself depends on the variable $x$, $y=f(x)$. The derivative of $z$ with respect to $x$ can be calculated by:\n",
    "\n",
    "$\\frac{\\partial z}{\\partial x}=\\frac{\\partial z}{\\partial y} \\frac{\\partial y}{\\partial x}$\n",
    "\n",
    "#### 2. Computational graph and local gradients\n",
    "\n",
    "#### 3. Forward and backward pass"
   ]
  }
 ],
 "metadata": {
  "kernelspec": {
   "display_name": "Python 3.7",
   "language": "python",
   "name": "python3"
  },
  "language_info": {
   "codemirror_mode": {
    "name": "ipython",
    "version": 3
   },
   "file_extension": ".py",
   "mimetype": "text/x-python",
   "name": "python",
   "nbconvert_exporter": "python",
   "pygments_lexer": "ipython3",
   "version": "3.7.6"
  }
 },
 "nbformat": 4,
 "nbformat_minor": 4
}
