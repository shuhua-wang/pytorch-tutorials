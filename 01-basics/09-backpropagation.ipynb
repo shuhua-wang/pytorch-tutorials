{
 "cells": [
  {
   "cell_type": "markdown",
   "metadata": {},
   "source": [
    "### 09. Backpropagation"
   ]
  },
  {
   "cell_type": "markdown",
   "metadata": {},
   "source": [
    "#### Table of Contents\n",
    "\n",
    "- [1. Chian rule](#heading)\n",
    "- [2. Computational graph and local gradients](#heading)\n",
    "- [3. Forward and backward pass](#heading)\n",
    "- [4. Backpropagation with pytorch code](#heading)\n",
    "\n",
    "#### 1. Chian rule\n",
    "\n",
    "<img src=\"./images/chain_rule.png\" alt=\"chain_rule\" width=\"400\"/>\n",
    "\n",
    "**Chian rule** is a formula to compute the derivative of a composite function. If a variable $z$ depends on the variable $y$, $z=f(y)$, where the $y$ itself depends on the variable $x$, $y=f(x)$. The derivative of $z$ with respect to $x$ can be calculated by:\n",
    "\n",
    "$\\frac{\\partial z}{\\partial x}=\\frac{\\partial z}{\\partial y} \\frac{\\partial y}{\\partial x}$\n",
    "\n",
    "#### 2. Computational graph and local gradients\n",
    "\n",
    "<img src=\"./images/computational_graph.png\" alt=\"computational_graph\" width=\"400\"/>\n",
    "\n",
    "**A computational graph** is defined as a directed graph where the nodes correspond to mathematical operations. Computational graphs are a way of expressing and evaluating a mathematical expression.\n",
    "\n",
    "If we assume that the $z$ is a function of variables $x$ and $y$, $z=f(x,y)=xy$. The $Loss$ is a function of $z$, $Loss=f(z)$. Assume that we have already known the derivative of $Loss$ with respect to $z$ is equal to $\\frac{\\partial Loss}{\\partial z}$, how can we calculate the derivative of $Loss$ with respect to $x$?\n",
    "\n",
    "First, we can obtain the **local gradients** (the derivative of $z$ with respect to $x$ or $y$):\n",
    "\n",
    "$\\frac{\\partial z}{\\partial x}=\\frac{\\partial xy}{\\partial x}=y$, $\\frac{\\partial z}{\\partial y}=\\frac{\\partial xy}{\\partial y}=x$\n",
    "\n",
    "Then, based on the **chian rule**, the derivative of $Loss$ with respect to $x$ is given by:\n",
    "\n",
    "$\\frac{\\partial Loss}{\\partial x}=\\frac{\\partial Loss}{\\partial z} \\frac{\\partial z}{\\partial x}=y\\frac{\\partial Loss}{\\partial z}$\n",
    "\n",
    "#### 3. Forward and backward pass\n",
    "\n",
    "The backpropagation consists of 3 steps:\n",
    " - (1) forward pass: compute loss\n",
    " - (2) compute local gradients\n",
    " - (3) backward pass: compute _dLoss/dWeights_ using the chain rule\n",
    "\n",
    "<img src=\"./images/forward_backward_pass.png\" alt=\"forward_backward_pass\" width=\"400\"/>\n",
    "\n",
    "**Linear regression:**\n",
    " - The linear regression is defines as: $y=wx$\n",
    " - The prediction value is represented as: $\\hat{y}$\n",
    " - Error between predicted and real value is: $s=\\hat{y}-y$\n",
    " - Loss function is defined as squared error: $Loss=(\\hat{y}-y)^{2}$\n",
    " - Given an example as: $(x=1, y=2)$, the initial weight: $w=1$\n",
    "\n",
    "**Forward pass:**\n",
    " - $\\hat{y}=wx=1 \\times 1=1$\n",
    " - $s=\\hat{y}-y=1-2=-1$\n",
    " - $Loss=(\\hat{y}-y)^{2}=(-1)^{2}=1$\n",
    "\n",
    "**Local gradients:**\n",
    "  - $\\frac{\\partial Loss}{\\partial s}=\\frac{\\partial s^{2}}{\\partial s}=2s$\n",
    "  - $\\frac{\\partial s}{\\partial \\hat{y}}=\\frac{\\partial (\\hat{y}-y)}{\\partial \\hat{y}}=1$\n",
    "  - $\\frac{\\partial \\hat{y}}{\\partial w}=\\frac{\\partial wx}{\\partial w}=x$\n",
    "\n",
    "**Backward pass:** using the chian rule to compute _dLoss/dWeights_\n",
    " - $\\frac{\\partial Loss}{\\partial w}=\\frac{\\partial Loss}{\\partial s} \\cdot \\frac{\\partial s}{\\partial \\hat{y}} \\cdot \\frac{\\partial \\hat{y}}{\\partial w}=2sx=2 \\times (-1) \\times 1=-2$\n",
    "\n",
    "#### 4. Backpropagation with pytorch code"
   ]
  },
  {
   "cell_type": "code",
   "execution_count": 1,
   "metadata": {},
   "outputs": [],
   "source": [
    "import torch"
   ]
  },
  {
   "cell_type": "code",
   "execution_count": 2,
   "metadata": {},
   "outputs": [
    {
     "name": "stdout",
     "output_type": "stream",
     "text": [
      "tensor(1., device='cuda:0')\n",
      "tensor(2., device='cuda:0')\n",
      "tensor(1., device='cuda:0', requires_grad=True)\n"
     ]
    }
   ],
   "source": [
    "if torch.cuda.is_available():\n",
    "    device = torch.device(\"cuda\")\n",
    "else:\n",
    "    device = torch.device(\"cpu\")\n",
    "\n",
    "# define x, y and initial weights\n",
    "x = torch.tensor(1.0, device=device)\n",
    "y = torch.tensor(2.0, device=device)\n",
    "w = torch.tensor(1.0, device=device, requires_grad=True)\n",
    "print(x)\n",
    "print(y)\n",
    "print(w)"
   ]
  },
  {
   "cell_type": "code",
   "execution_count": 3,
   "metadata": {},
   "outputs": [
    {
     "name": "stdout",
     "output_type": "stream",
     "text": [
      "tensor(1., device='cuda:0', grad_fn=<PowBackward0>)\n"
     ]
    }
   ],
   "source": [
    "# forward pass and compute the loss\n",
    "y_hat = w * x\n",
    "loss = (y_hat - y)**2\n",
    "print(loss)"
   ]
  },
  {
   "cell_type": "code",
   "execution_count": 4,
   "metadata": {},
   "outputs": [
    {
     "name": "stdout",
     "output_type": "stream",
     "text": [
      "tensor(-2., device='cuda:0')\n"
     ]
    }
   ],
   "source": [
    "# backward pass\n",
    "loss.backward()\n",
    "print(w.grad)\n",
    "\n",
    "# update weights\n",
    "# next forward and backward"
   ]
  }
 ],
 "metadata": {
  "kernelspec": {
   "display_name": "Python 3.7",
   "language": "python",
   "name": "python3"
  },
  "language_info": {
   "codemirror_mode": {
    "name": "ipython",
    "version": 3
   },
   "file_extension": ".py",
   "mimetype": "text/x-python",
   "name": "python",
   "nbconvert_exporter": "python",
   "pygments_lexer": "ipython3",
   "version": "3.7.6"
  }
 },
 "nbformat": 4,
 "nbformat_minor": 4
}
