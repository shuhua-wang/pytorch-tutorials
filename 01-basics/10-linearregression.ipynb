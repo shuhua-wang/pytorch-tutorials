{
 "cells": [
  {
   "cell_type": "markdown",
   "metadata": {},
   "source": [
    "### 10. Linear Regression\n",
    "\n",
    "#### Table of Contents\n",
    "\n",
    "- [1. Linear regression implementation with numpy](#heading)\n",
    "- [2. Linear regression implementation with autograd](#heading)\n",
    "- [3. Linear regression implementation with pytorch](#heading)"
   ]
  },
  {
   "cell_type": "markdown",
   "metadata": {},
   "source": [
    "#### 1. Linear regression implementation with numpy\n",
    "\n",
    " - Predition: manually\n",
    " - Gradients computation: manually\n",
    " - Loss computation: manually\n",
    " - Parameter updates: manually"
   ]
  },
  {
   "cell_type": "code",
   "execution_count": 1,
   "metadata": {},
   "outputs": [
    {
     "name": "stdout",
     "output_type": "stream",
     "text": [
      "Prediction before training: f(x) =  [0. 0. 0. 0.]\n",
      "Prediction before training: f(5) = 0.000\n"
     ]
    }
   ],
   "source": [
    "import numpy as np\n",
    "\n",
    "# linear regression function: f = w * x\n",
    "# example: f = 2 * x (final weight w = 2)\n",
    "\n",
    "x = np.array([1, 2, 3, 4], dtype=np.float32)\n",
    "y = np.array([2, 4, 6, 8], dtype=np.float32)\n",
    "\n",
    "w = 0.0 # initial weight\n",
    "\n",
    "# model prediction\n",
    "def forward(x):\n",
    "    return w * x\n",
    "\n",
    "# loss computation: loss = MSE\n",
    "# loss = 1/N * (y_predicted - y)^2\n",
    "def loss(y, y_predicted):\n",
    "    return ((y_predicted-y)**2).mean()\n",
    "\n",
    "# gradient computation\n",
    "# MSE = 1/N * (wx - y)**2\n",
    "# dJ/dw = 1/N * 2x * (wx-y)\n",
    "def gradient(x, y, y_predicted):\n",
    "    return np.dot(2*x, y_predicted-y).mean()\n",
    "\n",
    "print('Prediction before training: f(x) = ', forward(x))\n",
    "print(f'Prediction before training: f(5) = {forward(5):.3f}')"
   ]
  },
  {
   "cell_type": "code",
   "execution_count": 2,
   "metadata": {},
   "outputs": [
    {
     "name": "stdout",
     "output_type": "stream",
     "text": [
      "epoch 1: w = 1.200, loss = 30.00000000\n",
      "epoch 3: w = 1.872, loss = 0.76800019\n",
      "epoch 5: w = 1.980, loss = 0.01966083\n",
      "epoch 7: w = 1.997, loss = 0.00050331\n",
      "epoch 9: w = 1.999, loss = 0.00001288\n",
      "epoch 11: w = 2.000, loss = 0.00000033\n",
      "epoch 13: w = 2.000, loss = 0.00000001\n",
      "epoch 15: w = 2.000, loss = 0.00000000\n",
      "epoch 17: w = 2.000, loss = 0.00000000\n",
      "epoch 19: w = 2.000, loss = 0.00000000\n",
      "Prediction after training: f(x) =  [2. 4. 6. 8.]\n",
      "Prediction after training: f(5) = 10.000\n"
     ]
    }
   ],
   "source": [
    "# training\n",
    "learning_rate = 0.01\n",
    "n_iters = 20\n",
    "\n",
    "for epoch in range(n_iters):\n",
    "    # prediction, forward pass\n",
    "    y_pred = forward(x)\n",
    "\n",
    "    # loss computation\n",
    "    l = loss(y, y_pred)\n",
    "\n",
    "    # gradients\n",
    "    dw = gradient(x, y, y_pred)\n",
    "\n",
    "    # update weights: w = w - lr * dJ/dw\n",
    "    w -= learning_rate * dw\n",
    "\n",
    "    if epoch % 2 == 0:\n",
    "        print(f'epoch {epoch+1}: w = {w:.3f}, loss = {l:.8f}')\n",
    "\n",
    "print('Prediction after training: f(x) = ', forward(x))\n",
    "print(f'Prediction after training: f(5) = {forward(5):.3f}')"
   ]
  },
  {
   "cell_type": "markdown",
   "metadata": {},
   "source": [
    "#### 2. Linear regression implementation with autograd\n",
    "\n",
    " - Prediction: manually\n",
    " - Gradients computation: **autograd**\n",
    " - Loss computation: manually\n",
    " - Parameter updates: manually"
   ]
  },
  {
   "cell_type": "code",
   "execution_count": null,
   "metadata": {},
   "outputs": [],
   "source": [
    "import torch\n",
    "\n",
    "if torch.cuda.is_available:\n",
    "    device = torch.device('cuda')\n",
    "else:\n",
    "    device = torch.device('cpu')\n",
    "\n",
    "# linear regression function: f = w * x\n",
    "# example: f = 2 * x (final weight w = 2)\n",
    "\n",
    "x = torch.tensor([1, 2, 3, 4], device=device, dtype=torch.float32)\n",
    "y = torch.tensor([2, 4, 6, 8], device=device, dtype=torch.float32)\n",
    "\n",
    "w = torch.tensor(0.0, device=device, dtype=torch.float32, requires_grad=True) # initial weight\n",
    "\n",
    "# model prediction\n",
    "def forward(x):\n",
    "    return w * x\n",
    "\n",
    "# loss computation: loss = MSE\n",
    "# loss = 1/N * (y_predicted - y)^2\n",
    "def loss(y, y_predicted):\n",
    "    return ((y_predicted-y)**2).mean()\n",
    "\n",
    "# gradient computation\n",
    "# MSE = 1/N * (wx - y)**2\n",
    "# dJ/dw = 1/N * 2x * (wx-y)\n",
    "# def gradient(x, y, y_predicted):\n",
    "#     return np.dot(2*x, y_predicted-y).mean()\n",
    "\n",
    "print('Prediction before training: f(x) = ', forward(x))\n",
    "print(f'Prediction before training: f(5) = {forward(5):.3f}')\n",
    "\n",
    "# training\n",
    "learning_rate = 0.01\n",
    "n_iters = 100\n",
    "\n",
    "for epoch in range(n_iters):\n",
    "    # prediction, forward pass\n",
    "    y_pred = forward(x)\n",
    "\n",
    "    # loss computation\n",
    "    l = loss(y, y_pred)\n",
    "\n",
    "    # gradients = backward pass\n",
    "    l.backward() # dl/dw\n",
    "\n",
    "    # update weights: w = w - lr * dJ/dw\n",
    "    with torch.no_grad():\n",
    "        w -= learning_rate * w.grad\n",
    "\n",
    "    # zero gradients\n",
    "    # you can comment out this line and check the training process\n",
    "    w.grad.zero_()\n",
    "\n",
    "    if epoch % 10 == 0:\n",
    "        print(f'epoch {epoch+1}: w = {w:.3f}, loss = {l:.8f}')\n",
    "\n",
    "print('Prediction after training: f(x) = ', forward(x))\n",
    "print(f'Prediction after training: f(5) = {forward(5):.3f}')\n"
   ]
  }
 ],
 "metadata": {
  "kernelspec": {
   "display_name": "Python 3.7",
   "language": "python",
   "name": "python3"
  },
  "language_info": {
   "codemirror_mode": {
    "name": "ipython",
    "version": 3
   },
   "file_extension": ".py",
   "mimetype": "text/x-python",
   "name": "python",
   "nbconvert_exporter": "python",
   "pygments_lexer": "ipython3",
   "version": "3.7.6"
  }
 },
 "nbformat": 4,
 "nbformat_minor": 4
}
